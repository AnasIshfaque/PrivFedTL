{
 "cells": [
  {
   "cell_type": "code",
   "execution_count": 2,
   "id": "eec053bb-e362-466c-b05b-1e931c2ca20e",
   "metadata": {},
   "outputs": [],
   "source": [
    "import os\n",
    "import numpy as np\n",
    "import torch\n",
    "import torch.nn as nn\n",
    "import torchvision.transforms as transforms\n",
    "import medmnist\n",
    "from medmnist import BreastMNIST\n",
    "from torch.utils.data import DataLoader\n",
    "import matplotlib.pyplot as plt\n",
    "from skimage.metrics import structural_similarity as ssim\n",
    "import lpips\n",
    "from torchvision import models\n",
    "from torchvision.models import SqueezeNet1_1_Weights"
   ]
  },
  {
   "cell_type": "code",
   "execution_count": 3,
   "id": "daf17b51-483b-49f3-aad7-1d026653c5f7",
   "metadata": {},
   "outputs": [],
   "source": [
    "def compute_mse(img1, img2):\n",
    "    return ((img1 - img2) ** 2).mean()"
   ]
  },
  {
   "cell_type": "code",
   "execution_count": 4,
   "id": "68357a59-303c-4f9e-b171-bb2090874112",
   "metadata": {},
   "outputs": [],
   "source": [
    "mean = np.array([0.485,0.456,0.406])\n",
    "std = np.array([0.229,0.224,0.225])"
   ]
  },
  {
   "cell_type": "code",
   "execution_count": 5,
   "id": "9849f68d-1f00-4cac-9f67-0984d458302b",
   "metadata": {},
   "outputs": [],
   "source": [
    "# Load BreastMNIST dataset\n",
    "def load_breastmnist(data_flag='train'):\n",
    "    transform = transforms.Compose([\n",
    "        transforms.Grayscale(num_output_channels=3),\n",
    "        transforms.ToTensor(),\n",
    "        transforms.Normalize(mean,std)\n",
    "    ])\n",
    "    dataset = BreastMNIST(split=data_flag, download=True, transform=transform)\n",
    "    return dataset"
   ]
  },
  {
   "cell_type": "code",
   "execution_count": 6,
   "id": "d2480496-9ef1-4f0f-bc9a-1c4a483b7b9d",
   "metadata": {},
   "outputs": [],
   "source": [
    "dataset = 'BreastMNIST'\n",
    "num_classes = 2\n",
    "lr = 1.0\n",
    "num_dummy = 4\n",
    "Iteration = 50\n",
    "num_exp = 1\n",
    "client_lr = 0.01  # Client learning rate\n",
    "BATCH_SIZE = 4"
   ]
  },
  {
   "cell_type": "code",
   "execution_count": 7,
   "id": "70ec7d9f-f7ef-4c39-9492-963ceb3e1179",
   "metadata": {},
   "outputs": [
    {
     "data": {
      "text/plain": [
       "'cuda'"
      ]
     },
     "execution_count": 7,
     "metadata": {},
     "output_type": "execute_result"
    }
   ],
   "source": [
    "use_cuda = torch.cuda.is_available()\n",
    "device = 'cuda' if use_cuda else 'cpu'\n",
    "device"
   ]
  },
  {
   "cell_type": "code",
   "execution_count": 69,
   "id": "1fe700b5-828d-4338-b3ca-7ed1b6ef83ce",
   "metadata": {},
   "outputs": [],
   "source": [
    "# Load dataset\n",
    "dst = load_breastmnist()\n",
    "dataloader = DataLoader(dst, batch_size=BATCH_SIZE, shuffle=True)"
   ]
  },
  {
   "cell_type": "code",
   "execution_count": 70,
   "id": "2807d04a-1d60-4e4a-9411-2b25bd199654",
   "metadata": {},
   "outputs": [],
   "source": [
    "# Function to initialize weights\n",
    "def weights_init(m):\n",
    "    try:\n",
    "        if hasattr(m, \"weight\"):\n",
    "            m.weight.data.uniform_(-0.5, 0.5)\n",
    "    except Exception:\n",
    "        print(f'Warning: failed in weights_init for {m._get_name()}.weight')\n",
    "    try:\n",
    "        if hasattr(m, \"bias\"):\n",
    "            m.bias.data.uniform_(-0.5, 0.5)\n",
    "    except Exception:\n",
    "        print(f'Warning: failed in weights_init for {m._get_name()}.bias')"
   ]
  },
  {
   "cell_type": "code",
   "execution_count": 71,
   "id": "e151e0ea-f48d-4cf4-999c-ef4955be9ef2",
   "metadata": {},
   "outputs": [],
   "source": [
    "# Load model parameters from two consecutive FL rounds\n",
    "round_9_params = torch.load(\"round_9.pth\", map_location=device)\n",
    "round_10_params = torch.load(\"round_10.pth\", map_location=device)"
   ]
  },
  {
   "cell_type": "code",
   "execution_count": 72,
   "id": "368eb8b6-3b00-4a39-813e-84d0daaba7ff",
   "metadata": {},
   "outputs": [],
   "source": [
    "# Compute estimated gradient\n",
    "estimated_dy_dx = []\n",
    "for key in round_9_params.keys():\n",
    "    grad_estimate = (round_10_params[key] - round_9_params[key]) / client_lr\n",
    "    estimated_dy_dx.append(grad_estimate)"
   ]
  },
  {
   "cell_type": "code",
   "execution_count": 75,
   "id": "656be389-3a09-4c49-a4ec-7ea1b71b2328",
   "metadata": {},
   "outputs": [
    {
     "name": "stdout",
     "output_type": "stream",
     "text": [
      "Running 1/3 experiment\n",
      "Iteration 1: Loss=308246715826176.000000, MSE=2.188584\n",
      "Iteration 6: Loss=4875103502336.000000, MSE=2.116808\n",
      "Iteration 11: Loss=4875103502336.000000, MSE=2.116808\n",
      "Iteration 16: Loss=4875103502336.000000, MSE=2.116808\n",
      "Iteration 21: Loss=4875103502336.000000, MSE=2.116808\n",
      "Iteration 26: Loss=4875103502336.000000, MSE=2.116808\n",
      "Iteration 31: Loss=4875103502336.000000, MSE=2.116808\n",
      "Iteration 36: Loss=4875103502336.000000, MSE=2.116808\n",
      "Iteration 41: Loss=4875103502336.000000, MSE=2.116808\n",
      "Iteration 46: Loss=4875103502336.000000, MSE=2.116808\n"
     ]
    },
    {
     "name": "stderr",
     "output_type": "stream",
     "text": [
      "Clipping input data to the valid range for imshow with RGB data ([0..1] for floats or [0..255] for integers). Got range [-2.1007793..1.1236603].\n",
      "Clipping input data to the valid range for imshow with RGB data ([0..1] for floats or [0..255] for integers). Got range [-2.1007793..1.1236603].\n",
      "Clipping input data to the valid range for imshow with RGB data ([0..1] for floats or [0..255] for integers). Got range [-2.1007793..1.1236603].\n",
      "Clipping input data to the valid range for imshow with RGB data ([0..1] for floats or [0..255] for integers). Got range [-2.1007793..1.1236603].\n",
      "Clipping input data to the valid range for imshow with RGB data ([0..1] for floats or [0..255] for integers). Got range [-2.1007793..1.1236603].\n",
      "Clipping input data to the valid range for imshow with RGB data ([0..1] for floats or [0..255] for integers). Got range [-2.1007793..1.1236603].\n",
      "Clipping input data to the valid range for imshow with RGB data ([0..1] for floats or [0..255] for integers). Got range [-2.1007793..1.1236603].\n",
      "Clipping input data to the valid range for imshow with RGB data ([0..1] for floats or [0..255] for integers). Got range [-2.1007793..1.1236603].\n",
      "Clipping input data to the valid range for imshow with RGB data ([0..1] for floats or [0..255] for integers). Got range [-2.1007793..1.1236603].\n",
      "Clipping input data to the valid range for imshow with RGB data ([0..1] for floats or [0..255] for integers). Got range [-2.1007793..1.1236603].\n",
      "Clipping input data to the valid range for imshow with RGB data ([0..1] for floats or [0..255] for integers). Got range [-2.1007793..1.1236603].\n"
     ]
    },
    {
     "name": "stdout",
     "output_type": "stream",
     "text": [
      "Iteration 50: Loss=4875103502336.000000, MSE=2.116808\n",
      "Experiment 1\n"
     ]
    },
    {
     "ename": "TypeError",
     "evalue": "Invalid shape (4, 3, 28, 28) for image data",
     "output_type": "error",
     "traceback": [
      "\u001b[0;31m---------------------------------------------------------------------------\u001b[0m",
      "\u001b[0;31mTypeError\u001b[0m                                 Traceback (most recent call last)",
      "Cell \u001b[0;32mIn[75], line 68\u001b[0m\n\u001b[1;32m     65\u001b[0m     axes[i]\u001b[38;5;241m.\u001b[39mset_title(\u001b[38;5;124mf\u001b[39m\u001b[38;5;124m\"\u001b[39m\u001b[38;5;124mIter \u001b[39m\u001b[38;5;132;01m{\u001b[39;00miter_num\u001b[38;5;132;01m}\u001b[39;00m\u001b[38;5;124m\"\u001b[39m)\n\u001b[1;32m     66\u001b[0m     axes[i]\u001b[38;5;241m.\u001b[39maxis(\u001b[38;5;124m'\u001b[39m\u001b[38;5;124moff\u001b[39m\u001b[38;5;124m'\u001b[39m)\n\u001b[0;32m---> 68\u001b[0m \u001b[43maxes\u001b[49m\u001b[43m[\u001b[49m\u001b[38;5;241;43m-\u001b[39;49m\u001b[38;5;241;43m1\u001b[39;49m\u001b[43m]\u001b[49m\u001b[38;5;241;43m.\u001b[39;49m\u001b[43mimshow\u001b[49m\u001b[43m(\u001b[49m\u001b[43mdata\u001b[49m\u001b[38;5;241;43m.\u001b[39;49m\u001b[43mcpu\u001b[49m\u001b[43m(\u001b[49m\u001b[43m)\u001b[49m\u001b[38;5;241;43m.\u001b[39;49m\u001b[43msqueeze\u001b[49m\u001b[43m(\u001b[49m\u001b[43m)\u001b[49m\u001b[43m,\u001b[49m\u001b[43m \u001b[49m\u001b[43mcmap\u001b[49m\u001b[38;5;241;43m=\u001b[39;49m\u001b[38;5;124;43m'\u001b[39;49m\u001b[38;5;124;43mgray\u001b[39;49m\u001b[38;5;124;43m'\u001b[39;49m\u001b[43m)\u001b[49m\n\u001b[1;32m     69\u001b[0m axes[\u001b[38;5;241m-\u001b[39m\u001b[38;5;241m1\u001b[39m]\u001b[38;5;241m.\u001b[39mset_title(\u001b[38;5;124m\"\u001b[39m\u001b[38;5;124mOriginal\u001b[39m\u001b[38;5;124m\"\u001b[39m)\n\u001b[1;32m     70\u001b[0m axes[\u001b[38;5;241m-\u001b[39m\u001b[38;5;241m1\u001b[39m]\u001b[38;5;241m.\u001b[39maxis(\u001b[38;5;124m'\u001b[39m\u001b[38;5;124moff\u001b[39m\u001b[38;5;124m'\u001b[39m)\n",
      "File \u001b[0;32m~/PrivFedTL/anasenv/lib/python3.10/site-packages/matplotlib/__init__.py:1521\u001b[0m, in \u001b[0;36m_preprocess_data.<locals>.inner\u001b[0;34m(ax, data, *args, **kwargs)\u001b[0m\n\u001b[1;32m   1518\u001b[0m \u001b[38;5;129m@functools\u001b[39m\u001b[38;5;241m.\u001b[39mwraps(func)\n\u001b[1;32m   1519\u001b[0m \u001b[38;5;28;01mdef\u001b[39;00m\u001b[38;5;250m \u001b[39m\u001b[38;5;21minner\u001b[39m(ax, \u001b[38;5;241m*\u001b[39margs, data\u001b[38;5;241m=\u001b[39m\u001b[38;5;28;01mNone\u001b[39;00m, \u001b[38;5;241m*\u001b[39m\u001b[38;5;241m*\u001b[39mkwargs):\n\u001b[1;32m   1520\u001b[0m     \u001b[38;5;28;01mif\u001b[39;00m data \u001b[38;5;129;01mis\u001b[39;00m \u001b[38;5;28;01mNone\u001b[39;00m:\n\u001b[0;32m-> 1521\u001b[0m         \u001b[38;5;28;01mreturn\u001b[39;00m \u001b[43mfunc\u001b[49m\u001b[43m(\u001b[49m\n\u001b[1;32m   1522\u001b[0m \u001b[43m            \u001b[49m\u001b[43max\u001b[49m\u001b[43m,\u001b[49m\n\u001b[1;32m   1523\u001b[0m \u001b[43m            \u001b[49m\u001b[38;5;241;43m*\u001b[39;49m\u001b[38;5;28;43mmap\u001b[39;49m\u001b[43m(\u001b[49m\u001b[43mcbook\u001b[49m\u001b[38;5;241;43m.\u001b[39;49m\u001b[43msanitize_sequence\u001b[49m\u001b[43m,\u001b[49m\u001b[43m \u001b[49m\u001b[43margs\u001b[49m\u001b[43m)\u001b[49m\u001b[43m,\u001b[49m\n\u001b[1;32m   1524\u001b[0m \u001b[43m            \u001b[49m\u001b[38;5;241;43m*\u001b[39;49m\u001b[38;5;241;43m*\u001b[39;49m\u001b[43m{\u001b[49m\u001b[43mk\u001b[49m\u001b[43m:\u001b[49m\u001b[43m \u001b[49m\u001b[43mcbook\u001b[49m\u001b[38;5;241;43m.\u001b[39;49m\u001b[43msanitize_sequence\u001b[49m\u001b[43m(\u001b[49m\u001b[43mv\u001b[49m\u001b[43m)\u001b[49m\u001b[43m \u001b[49m\u001b[38;5;28;43;01mfor\u001b[39;49;00m\u001b[43m \u001b[49m\u001b[43mk\u001b[49m\u001b[43m,\u001b[49m\u001b[43m \u001b[49m\u001b[43mv\u001b[49m\u001b[43m \u001b[49m\u001b[38;5;129;43;01min\u001b[39;49;00m\u001b[43m \u001b[49m\u001b[43mkwargs\u001b[49m\u001b[38;5;241;43m.\u001b[39;49m\u001b[43mitems\u001b[49m\u001b[43m(\u001b[49m\u001b[43m)\u001b[49m\u001b[43m}\u001b[49m\u001b[43m)\u001b[49m\n\u001b[1;32m   1526\u001b[0m     bound \u001b[38;5;241m=\u001b[39m new_sig\u001b[38;5;241m.\u001b[39mbind(ax, \u001b[38;5;241m*\u001b[39margs, \u001b[38;5;241m*\u001b[39m\u001b[38;5;241m*\u001b[39mkwargs)\n\u001b[1;32m   1527\u001b[0m     auto_label \u001b[38;5;241m=\u001b[39m (bound\u001b[38;5;241m.\u001b[39marguments\u001b[38;5;241m.\u001b[39mget(label_namer)\n\u001b[1;32m   1528\u001b[0m                   \u001b[38;5;129;01mor\u001b[39;00m bound\u001b[38;5;241m.\u001b[39mkwargs\u001b[38;5;241m.\u001b[39mget(label_namer))\n",
      "File \u001b[0;32m~/PrivFedTL/anasenv/lib/python3.10/site-packages/matplotlib/axes/_axes.py:5945\u001b[0m, in \u001b[0;36mAxes.imshow\u001b[0;34m(self, X, cmap, norm, aspect, interpolation, alpha, vmin, vmax, colorizer, origin, extent, interpolation_stage, filternorm, filterrad, resample, url, **kwargs)\u001b[0m\n\u001b[1;32m   5942\u001b[0m \u001b[38;5;28;01mif\u001b[39;00m aspect \u001b[38;5;129;01mis\u001b[39;00m \u001b[38;5;129;01mnot\u001b[39;00m \u001b[38;5;28;01mNone\u001b[39;00m:\n\u001b[1;32m   5943\u001b[0m     \u001b[38;5;28mself\u001b[39m\u001b[38;5;241m.\u001b[39mset_aspect(aspect)\n\u001b[0;32m-> 5945\u001b[0m \u001b[43mim\u001b[49m\u001b[38;5;241;43m.\u001b[39;49m\u001b[43mset_data\u001b[49m\u001b[43m(\u001b[49m\u001b[43mX\u001b[49m\u001b[43m)\u001b[49m\n\u001b[1;32m   5946\u001b[0m im\u001b[38;5;241m.\u001b[39mset_alpha(alpha)\n\u001b[1;32m   5947\u001b[0m \u001b[38;5;28;01mif\u001b[39;00m im\u001b[38;5;241m.\u001b[39mget_clip_path() \u001b[38;5;129;01mis\u001b[39;00m \u001b[38;5;28;01mNone\u001b[39;00m:\n\u001b[1;32m   5948\u001b[0m     \u001b[38;5;66;03m# image does not already have clipping set, clip to Axes patch\u001b[39;00m\n",
      "File \u001b[0;32m~/PrivFedTL/anasenv/lib/python3.10/site-packages/matplotlib/image.py:675\u001b[0m, in \u001b[0;36m_ImageBase.set_data\u001b[0;34m(self, A)\u001b[0m\n\u001b[1;32m    673\u001b[0m \u001b[38;5;28;01mif\u001b[39;00m \u001b[38;5;28misinstance\u001b[39m(A, PIL\u001b[38;5;241m.\u001b[39mImage\u001b[38;5;241m.\u001b[39mImage):\n\u001b[1;32m    674\u001b[0m     A \u001b[38;5;241m=\u001b[39m pil_to_array(A)  \u001b[38;5;66;03m# Needed e.g. to apply png palette.\u001b[39;00m\n\u001b[0;32m--> 675\u001b[0m \u001b[38;5;28mself\u001b[39m\u001b[38;5;241m.\u001b[39m_A \u001b[38;5;241m=\u001b[39m \u001b[38;5;28;43mself\u001b[39;49m\u001b[38;5;241;43m.\u001b[39;49m\u001b[43m_normalize_image_array\u001b[49m\u001b[43m(\u001b[49m\u001b[43mA\u001b[49m\u001b[43m)\u001b[49m\n\u001b[1;32m    676\u001b[0m \u001b[38;5;28mself\u001b[39m\u001b[38;5;241m.\u001b[39m_imcache \u001b[38;5;241m=\u001b[39m \u001b[38;5;28;01mNone\u001b[39;00m\n\u001b[1;32m    677\u001b[0m \u001b[38;5;28mself\u001b[39m\u001b[38;5;241m.\u001b[39mstale \u001b[38;5;241m=\u001b[39m \u001b[38;5;28;01mTrue\u001b[39;00m\n",
      "File \u001b[0;32m~/PrivFedTL/anasenv/lib/python3.10/site-packages/matplotlib/image.py:643\u001b[0m, in \u001b[0;36m_ImageBase._normalize_image_array\u001b[0;34m(A)\u001b[0m\n\u001b[1;32m    641\u001b[0m     A \u001b[38;5;241m=\u001b[39m A\u001b[38;5;241m.\u001b[39msqueeze(\u001b[38;5;241m-\u001b[39m\u001b[38;5;241m1\u001b[39m)  \u001b[38;5;66;03m# If just (M, N, 1), assume scalar and apply colormap.\u001b[39;00m\n\u001b[1;32m    642\u001b[0m \u001b[38;5;28;01mif\u001b[39;00m \u001b[38;5;129;01mnot\u001b[39;00m (A\u001b[38;5;241m.\u001b[39mndim \u001b[38;5;241m==\u001b[39m \u001b[38;5;241m2\u001b[39m \u001b[38;5;129;01mor\u001b[39;00m A\u001b[38;5;241m.\u001b[39mndim \u001b[38;5;241m==\u001b[39m \u001b[38;5;241m3\u001b[39m \u001b[38;5;129;01mand\u001b[39;00m A\u001b[38;5;241m.\u001b[39mshape[\u001b[38;5;241m-\u001b[39m\u001b[38;5;241m1\u001b[39m] \u001b[38;5;129;01min\u001b[39;00m [\u001b[38;5;241m3\u001b[39m, \u001b[38;5;241m4\u001b[39m]):\n\u001b[0;32m--> 643\u001b[0m     \u001b[38;5;28;01mraise\u001b[39;00m \u001b[38;5;167;01mTypeError\u001b[39;00m(\u001b[38;5;124mf\u001b[39m\u001b[38;5;124m\"\u001b[39m\u001b[38;5;124mInvalid shape \u001b[39m\u001b[38;5;132;01m{\u001b[39;00mA\u001b[38;5;241m.\u001b[39mshape\u001b[38;5;132;01m}\u001b[39;00m\u001b[38;5;124m for image data\u001b[39m\u001b[38;5;124m\"\u001b[39m)\n\u001b[1;32m    644\u001b[0m \u001b[38;5;28;01mif\u001b[39;00m A\u001b[38;5;241m.\u001b[39mndim \u001b[38;5;241m==\u001b[39m \u001b[38;5;241m3\u001b[39m:\n\u001b[1;32m    645\u001b[0m     \u001b[38;5;66;03m# If the input data has values outside the valid range (after\u001b[39;00m\n\u001b[1;32m    646\u001b[0m     \u001b[38;5;66;03m# normalisation), we issue a warning and then clip X to the bounds\u001b[39;00m\n\u001b[1;32m    647\u001b[0m     \u001b[38;5;66;03m# - otherwise casting wraps extreme values, hiding outliers and\u001b[39;00m\n\u001b[1;32m    648\u001b[0m     \u001b[38;5;66;03m# making reliable interpretation impossible.\u001b[39;00m\n\u001b[1;32m    649\u001b[0m     high \u001b[38;5;241m=\u001b[39m \u001b[38;5;241m255\u001b[39m \u001b[38;5;28;01mif\u001b[39;00m np\u001b[38;5;241m.\u001b[39missubdtype(A\u001b[38;5;241m.\u001b[39mdtype, np\u001b[38;5;241m.\u001b[39minteger) \u001b[38;5;28;01melse\u001b[39;00m \u001b[38;5;241m1\u001b[39m\n",
      "\u001b[0;31mTypeError\u001b[0m: Invalid shape (4, 3, 28, 28) for image data"
     ]
    },
    {
     "data": {
      "image/png": "[encoded data removed]",
      "text/plain": [
       "<Figure size 1500x300 with 12 Axes>"
      ]
     },
     "metadata": {},
     "output_type": "display_data"
    }
   ],
   "source": [
    "for idx_net in range(num_exp):\n",
    "    net = models.squeezenet1_1(weights=SqueezeNet1_1_Weights.DEFAULT)\n",
    "\n",
    "    # Freezing previous layers\n",
    "    # for param in net.features.parameters():\n",
    "    #     param.requires_grad = False\n",
    "\n",
    "    # Modifying the last layer to match desired output class\n",
    "    num_classes = 2\n",
    "    net.classifier = nn.Sequential(\n",
    "        nn.Conv2d(512, num_classes, kernel_size=1),\n",
    "        nn.ReLU(inplace=True),\n",
    "        nn.AdaptiveAvgPool2d((1, 1))\n",
    "    )\n",
    "    \n",
    "    net.apply(weights_init)\n",
    "    net.to(device)\n",
    "\n",
    "    print(f'Running {idx_net+1}/{num_exp} experiment')\n",
    "\n",
    "    for data, target in dataloader:\n",
    "        data, target = data.to(device), target.to(device).long().view(-1)\n",
    "        break  # Get a single batch\n",
    "\n",
    "    # Initialize dummy data and labels\n",
    "    dummy_data = torch.randn_like(data, device=device, requires_grad=True)\n",
    "    dummy_label = torch.randint(0, num_classes, (data.shape[0],), device=device)  # Fixed outside closure\n",
    "    \n",
    "    # Define optimizer\n",
    "    optimizer = torch.optim.LBFGS([dummy_data], lr=lr)\n",
    "\n",
    "    history = []\n",
    "    history_iters = []\n",
    "\n",
    "    def closure():\n",
    "        optimizer.zero_grad()\n",
    "        preds = net(dummy_data)\n",
    "        criterion = nn.CrossEntropyLoss().to(device)\n",
    "        dummy_loss = criterion(preds, dummy_label)\n",
    "        dummy_dy_dx = torch.autograd.grad(dummy_loss, net.parameters(), create_graph=True)\n",
    "        \n",
    "        # Compute gradient matching loss\n",
    "        grad_diff = sum(((gx - gy) ** 2).sum() for gx, gy in zip(dummy_dy_dx, estimated_dy_dx))\n",
    "        grad_diff.backward(retain_graph=True)  # Retain graph to prevent multiple backward calls\n",
    "        return grad_diff\n",
    "        \n",
    "    for iters in range(Iteration):\n",
    "        optimizer.step(closure)\n",
    "\n",
    "        # Compute loss, MSE, and SSIM\n",
    "        with torch.no_grad():\n",
    "            mse_val = compute_mse(dummy_data.cpu().squeeze().numpy(), data.cpu().squeeze().numpy())\n",
    "            # ssim_val = ssim(dummy_data.cpu().squeeze().numpy(), data.cpu().squeeze().numpy(), data_range=1, win_size=win_size)\n",
    "        \n",
    "        if iters % (Iteration // 10) == 0 or (iters+1) == Iteration:\n",
    "            print(f\"Iteration {iters+1}: Loss={closure().item():.6f}, MSE={mse_val:.6f}\")\n",
    "            history.append(dummy_data.detach().cpu().squeeze().numpy())\n",
    "            history_iters.append(iters)\n",
    "    \n",
    "    print(f'Experiment {idx_net+1}')\n",
    "    fig, axes = plt.subplots(1, len(history) + 1, figsize=(15, 3))\n",
    "    for i, (img, iter_num) in enumerate(zip(history, history_iters)):\n",
    "        # axes[i].imshow(img, cmap='gray')\n",
    "        axes[-1].imshow(data[0].permute(1, 2, 0).cpu().numpy())  # Use first sample, RGB\n",
    "        axes[i].set_title(f\"Iter {iter_num}\")\n",
    "        axes[i].axis('off')\n",
    "    \n",
    "    axes[-1].imshow(data.cpu().squeeze(), cmap='gray')\n",
    "    axes[-1].set_title(\"Original\")\n",
    "    axes[-1].axis('off')\n",
    "    \n",
    "    plt.savefig(f\"reconstruction_progress_exp{idx_net+1}.png\")\n",
    "    plt.close()\n"
   ]
  },
  {
   "cell_type": "code",
   "execution_count": null,
   "id": "3d8c24a5-16e3-4102-9248-0d125d35094f",
   "metadata": {},
   "outputs": [],
   "source": []
  },
  {
   "cell_type": "code",
   "execution_count": 4,
   "id": "f7b9760a-d220-434a-a81a-78fc35d0e7b6",
   "metadata": {},
   "outputs": [
    {
     "ename": "AttributeError",
     "evalue": "'int' object has no attribute 'backward'",
     "output_type": "error",
     "traceback": [
      "\u001b[0;31m---------------------------------------------------------------------------\u001b[0m",
      "\u001b[0;31mAttributeError\u001b[0m                            Traceback (most recent call last)",
      "Cell \u001b[0;32mIn[4], line 59\u001b[0m\n\u001b[1;32m     56\u001b[0m     \u001b[38;5;28;01mif\u001b[39;00m name \u001b[38;5;129;01min\u001b[39;00m estimated_gradients:\n\u001b[1;32m     57\u001b[0m         grad_loss \u001b[38;5;241m+\u001b[39m\u001b[38;5;241m=\u001b[39m loss_fn(param\u001b[38;5;241m.\u001b[39mgrad, estimated_gradients[name])\n\u001b[0;32m---> 59\u001b[0m \u001b[43mgrad_loss\u001b[49m\u001b[38;5;241;43m.\u001b[39;49m\u001b[43mbackward\u001b[49m()\n\u001b[1;32m     60\u001b[0m optimizer\u001b[38;5;241m.\u001b[39mstep()\n\u001b[1;32m     62\u001b[0m \u001b[38;5;28;01mif\u001b[39;00m i \u001b[38;5;241m%\u001b[39m \u001b[38;5;241m10\u001b[39m \u001b[38;5;241m==\u001b[39m \u001b[38;5;241m0\u001b[39m:\n",
      "\u001b[0;31mAttributeError\u001b[0m: 'int' object has no attribute 'backward'"
     ]
    }
   ],
   "source": [
    "import torch\n",
    "import torch.nn as nn\n",
    "import torch.optim as optim\n",
    "import torchvision.transforms as transforms\n",
    "from medmnist import BreastMNIST\n",
    "from torch.utils.data import DataLoader\n",
    "import numpy as np\n",
    "import matplotlib.pyplot as plt\n",
    "from skimage.metrics import structural_similarity as ssim\n",
    "\n",
    "# Constants\n",
    "device = \"cuda\" if torch.cuda.is_available() else \"cpu\"\n",
    "client_lr = 0.01  # Client learning rate\n",
    "BATCH_SIZE = 4  # Batch size used by the client\n",
    "num_iters = 50  # Number of optimization iterations\n",
    "\n",
    "# Load model parameters from two FL rounds\n",
    "round_9_params = torch.load(\"client0_9th_round.pth\", map_location=device)\n",
    "round_10_params = torch.load(\"client0_10th_round.pth\", map_location=device)\n",
    "\n",
    "# Compute estimated gradient (difference divided by learning rate)\n",
    "estimated_gradients = {key: (round_10_params[key] - round_9_params[key]) / client_lr for key in round_9_params}\n",
    "\n",
    "# Load BreastMNIST dataset\n",
    "transform = transforms.Compose([\n",
    "    transforms.Grayscale(num_output_channels=3),\n",
    "    transforms.ToTensor(),\n",
    "    transforms.Normalize([0.485, 0.456, 0.406], [0.229, 0.224, 0.225])\n",
    "])\n",
    "dataset = BreastMNIST(split=\"train\", download=True, transform=transform)\n",
    "dataloader = DataLoader(dataset, batch_size=BATCH_SIZE, shuffle=True)\n",
    "\n",
    "# Initialize dummy input\n",
    "dummy_input = torch.randn((BATCH_SIZE, 3, 28, 28), device=device, requires_grad=True)\n",
    "optimizer = optim.Adam([dummy_input], lr=0.1)\n",
    "loss_fn = nn.MSELoss()\n",
    "\n",
    "# Define a simple dummy model to approximate the client's model behavior\n",
    "dummy_model = nn.Sequential(\n",
    "    nn.Conv2d(3, 16, 3, padding=1),\n",
    "    nn.ReLU(),\n",
    "    nn.Conv2d(16, 2, 3, padding=1)\n",
    ").to(device)\n",
    "\n",
    "# Optimization loop to recover the input\n",
    "for i in range(num_iters):\n",
    "    optimizer.zero_grad()\n",
    "    \n",
    "    # Forward pass on dummy model\n",
    "    dummy_output = dummy_model(dummy_input)\n",
    "    dummy_output.sum().backward()\n",
    "    \n",
    "    # Compute gradient loss (matching keys from estimated gradients)\n",
    "    grad_loss = 0\n",
    "    for name, param in dummy_model.named_parameters():\n",
    "        if name in estimated_gradients:\n",
    "            grad_loss += loss_fn(param.grad, estimated_gradients[name])\n",
    "    \n",
    "    grad_loss.backward()\n",
    "    optimizer.step()\n",
    "    \n",
    "    if i % 10 == 0:\n",
    "        print(f\"Iteration {i}: Loss = {grad_loss.item()}\")\n",
    "\n",
    "# Evaluate reconstruction\n",
    "original_images, _ = next(iter(dataloader))\n",
    "original_images = original_images.to(device)\n",
    "\n",
    "# Compute MSE\n",
    "mse_loss = ((original_images - dummy_input.detach()) ** 2).mean().item()\n",
    "\n",
    "# Compute SSIM\n",
    "def compute_ssim(img1, img2):\n",
    "    img1 = img1.squeeze().cpu().numpy()\n",
    "    img2 = img2.squeeze().cpu().numpy()\n",
    "    return ssim(img1, img2, data_range=img1.max() - img1.min(), multichannel=True)\n",
    "\n",
    "ssim_value = np.mean([compute_ssim(original_images[i], dummy_input[i].detach()) for i in range(BATCH_SIZE)])\n",
    "\n",
    "print(f\"MSE: {mse_loss}, SSIM: {ssim_value}\")\n",
    "\n",
    "# Plot original and reconstructed images\n",
    "fig, ax = plt.subplots(1, 2)\n",
    "ax[0].imshow(original_images[0].permute(1, 2, 0).cpu().numpy())\n",
    "ax[0].set_title(\"Original\")\n",
    "ax[1].imshow(dummy_input[0].detach().permute(1, 2, 0).cpu().numpy())\n",
    "ax[1].set_title(\"Reconstructed\")\n",
    "plt.show()\n"
   ]
  },
  {
   "cell_type": "code",
   "execution_count": null,
   "id": "3e811247-7925-46e4-845e-ae8dd33b9a31",
   "metadata": {},
   "outputs": [],
   "source": []
  }
 ],
 "metadata": {
  "kernelspec": {
   "display_name": "Python 3 (ipykernel)",
   "language": "python",
   "name": "python3"
  },
  "language_info": {
   "codemirror_mode": {
    "name": "ipython",
    "version": 3
   },
   "file_extension": ".py",
   "mimetype": "text/x-python",
   "name": "python",
   "nbconvert_exporter": "python",
   "pygments_lexer": "ipython3",
   "version": "3.10.12"
  }
 },
 "nbformat": 4,
 "nbformat_minor": 5
}
