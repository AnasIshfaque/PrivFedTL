{
 "cells": [
  {
   "cell_type": "code",
   "execution_count": 1,
   "id": "d7d6936f-e131-4fc4-b768-de8ac20b981f",
   "metadata": {},
   "outputs": [],
   "source": [
    "import pickle\n",
    "import tenseal as ts"
   ]
  },
  {
   "cell_type": "markdown",
   "id": "2dac7841-7823-44a7-b418-41d820544599",
   "metadata": {},
   "source": [
    "## create a context object (private by default)"
   ]
  },
  {
   "cell_type": "code",
   "execution_count": 2,
   "id": "7e39d1e9-6b0f-4424-a2cb-7bc65fa12600",
   "metadata": {},
   "outputs": [],
   "source": [
    "# TenSEAL context parameters\n",
    "# poly_modulus_degree = 8192 \n",
    "# coeff_mod_bit_sizes = [60, 40, 40, 60]\n",
    "\n",
    "# context = ts.context(ts.SCHEME_TYPE.CKKS, poly_modulus_degree, -1, coeff_mod_bit_sizes)\n",
    "# context.global_scale = 2**40"
   ]
  },
  {
   "cell_type": "code",
   "execution_count": 2,
   "id": "face4283-0448-43ab-93d5-eec0d43f0128",
   "metadata": {},
   "outputs": [],
   "source": [
    "## Encryption Parameters\n",
    "\n",
    "# controls precision of the fractional part\n",
    "bits_scale = 26\n",
    "\n",
    "# Create TenSEAL context\n",
    "context = ts.context(\n",
    "    ts.SCHEME_TYPE.CKKS,\n",
    "    poly_modulus_degree=8192,\n",
    "    coeff_mod_bit_sizes=[31, bits_scale, bits_scale, bits_scale, 31]\n",
    ")\n",
    "\n",
    "# set the scale\n",
    "context.global_scale = pow(2, bits_scale)"
   ]
  },
  {
   "cell_type": "markdown",
   "id": "4c75f61d-1ae8-4195-add5-d827c167d440",
   "metadata": {},
   "source": [
    "## Saving the context"
   ]
  },
  {
   "cell_type": "code",
   "execution_count": 3,
   "id": "b79c69a7-1098-4a4e-825e-65d03a57bb99",
   "metadata": {},
   "outputs": [],
   "source": [
    "def save_object(obj, filename):\n",
    "    with open(filename, 'wb') as outp:  # Overwrites any existing file.\n",
    "        pickle.dump(obj, outp, pickle.HIGHEST_PROTOCOL)"
   ]
  },
  {
   "cell_type": "code",
   "execution_count": 4,
   "id": "a6f78431-1908-4e76-bb95-b1e4231b7174",
   "metadata": {},
   "outputs": [],
   "source": [
    "# saving the private version of the context\n",
    "save_object(context.serialize(save_secret_key=True) , 'shared_context.pkl')"
   ]
  },
  {
   "cell_type": "code",
   "execution_count": 5,
   "id": "161a33f4-c1ae-4025-b675-ffc14ce40b3a",
   "metadata": {},
   "outputs": [],
   "source": [
    "# make the context public\n",
    "context.make_context_public()\n",
    "\n",
    "# save the public version of the context\n",
    "save_object(context.serialize() , 'public_context.pkl')"
   ]
  },
  {
   "cell_type": "code",
   "execution_count": null,
   "id": "cf8edd17-ea85-4166-932c-28f051e4e7a3",
   "metadata": {},
   "outputs": [],
   "source": []
  }
 ],
 "metadata": {
  "kernelspec": {
   "display_name": "Python 3 (ipykernel)",
   "language": "python",
   "name": "python3"
  },
  "language_info": {
   "codemirror_mode": {
    "name": "ipython",
    "version": 3
   },
   "file_extension": ".py",
   "mimetype": "text/x-python",
   "name": "python",
   "nbconvert_exporter": "python",
   "pygments_lexer": "ipython3",
   "version": "3.10.14"
  }
 },
 "nbformat": 4,
 "nbformat_minor": 5
}
